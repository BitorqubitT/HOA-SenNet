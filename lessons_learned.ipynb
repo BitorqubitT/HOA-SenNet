{
 "cells": [
  {
   "cell_type": "code",
   "execution_count": null,
   "metadata": {},
   "outputs": [],
   "source": [
    "best loss func and why?\n",
    "\n",
    "https://www.kaggle.com/competitions/blood-vessel-segmentation/discussion/475657\n",
    "\n",
    "# https://www.kaggle.com/competitions/blood-vessel-segmentation/discussion/473460\n",
    "# Lesson learned about 2.5d:\n",
    "    # https://github.com/Menno-Meijer/SenNet_VasculatureSegmentation_Competition/blob/main/README.md\n",
    "     #took too long to train\n",
    "used binary focal?\n",
    "\n",
    "\n",
    "\n",
    "# refernece og code\n",
    "# https://www.kaggle.com/code/yoyobar/2-5d-cutting-model-baseline-training/notebook\n",
    "# How is this exactly 2.5D? and test setting it channel back to 5\n",
    "\n",
    "\n",
    "#According to my experiments, using kidney_1_dense for training and kidney_3_dense for val is the best. You can even get 0.757, but using 2d model(se_resnext50_32x4d), you can set CFG.in_chans=1 to make this notebook as a 2d model training notebook.'"
   ]
  },
  {
   "cell_type": "markdown",
   "metadata": {},
   "source": []
  },
  {
   "cell_type": "code",
   "execution_count": null,
   "metadata": {},
   "outputs": [],
   "source": []
  }
 ],
 "metadata": {
  "language_info": {
   "name": "python"
  }
 },
 "nbformat": 4,
 "nbformat_minor": 2
}
