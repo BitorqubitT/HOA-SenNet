{
 "cells": [
  {
   "cell_type": "code",
   "execution_count": null,
   "metadata": {},
   "outputs": [],
   "source": [
    "best loss func and why?\n",
    "\n",
    "https://www.kaggle.com/competitions/blood-vessel-segmentation/discussion/475657\n",
    "\n",
    "\n",
    "used binary focal?"
   ]
  }
 ],
 "metadata": {
  "language_info": {
   "name": "python"
  }
 },
 "nbformat": 4,
 "nbformat_minor": 2
}
